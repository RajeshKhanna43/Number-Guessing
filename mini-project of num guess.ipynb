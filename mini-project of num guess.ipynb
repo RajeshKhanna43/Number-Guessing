{
 "cells": [
  {
   "cell_type": "code",
   "execution_count": null,
   "id": "16bd5381",
   "metadata": {},
   "outputs": [],
   "source": []
  },
  {
   "cell_type": "markdown",
   "id": "e09a09d5",
   "metadata": {},
   "source": [
    "  <h2 align = \"center\" style = \"color : purple\" > Mini Project - Number Guessing"
   ]
  },
  {
   "cell_type": "code",
   "execution_count": 3,
   "id": "3e3f8b58",
   "metadata": {},
   "outputs": [
    {
     "name": "stdout",
     "output_type": "stream",
     "text": [
      "enter a number between 1 to 100: 80\n",
      "your guess is upper side \n",
      "please type y or n: y\n",
      "enter a number between 1 to 100: 60\n",
      "your guess is lower side \n",
      "please type y or n: y\n",
      "enter a number between 1 to 100: 75\n",
      "your guess is upper side \n",
      "please type y or n: y\n",
      "enter a number between 1 to 100: 71\n",
      "your guess is upper side \n",
      "please type y or n: y\n",
      "enter a number between 1 to 100: 65\n",
      "your guess is upper side \n",
      "please type y or n: y\n",
      "enter a number between 1 to 100: 63\n",
      "your guess is upper side \n",
      "please type y or n: 61\n",
      "your no of attempts is:  6\n",
      "Thank You\n"
     ]
    }
   ],
   "source": [
    "#import random module\n",
    "import random\n",
    "\n",
    "#Using random.randint module guessing the number randomly in between 1 to 100\n",
    "ran_num = random.randint(1,100)\n",
    "#print(ran_num)\n",
    "\n",
    "\n",
    "attempts = []     # Created a empty list to know the no of attempts of player \n",
    "\n",
    "play = 'y'        # y is assigned to play continue or exit the game\n",
    "\n",
    "while play == 'y':\n",
    "    # Taking input from the player\n",
    "    guess = int(input('enter a number between 1 to 100: '))     \n",
    "    \n",
    "    if ran_num == guess:                   # If player guess currect num player won the game\n",
    "        attempts.append(play)\n",
    "        print('congrats your guess is correct')\n",
    "        break    \n",
    "    \n",
    "    elif ran_num > guess:                   # If player entered number is less than ran_num \n",
    "        attempts.append(play)\n",
    "        print('your guess is lower side ')\n",
    "             \n",
    "    else:                                   # If player entered number is greter than  ran_num\n",
    "        attempts.append(play)\n",
    "        print('your guess is upper side ')\n",
    "           \n",
    "    play = input('please type y or n: ')    # Taking input from the user to play or not \n",
    "    \n",
    "    \n",
    "result = len(attempts)                      # counting the length of the list\n",
    "\n",
    "print('your no of attempts is: ',result)   # printing the result of the no of attempts\n",
    "\n",
    "print(\"Thank You\") "
   ]
  },
  {
   "cell_type": "code",
   "execution_count": null,
   "id": "41df2c67",
   "metadata": {},
   "outputs": [],
   "source": []
  }
 ],
 "metadata": {
  "kernelspec": {
   "display_name": "Python 3 (ipykernel)",
   "language": "python",
   "name": "python3"
  },
  "language_info": {
   "codemirror_mode": {
    "name": "ipython",
    "version": 3
   },
   "file_extension": ".py",
   "mimetype": "text/x-python",
   "name": "python",
   "nbconvert_exporter": "python",
   "pygments_lexer": "ipython3",
   "version": "3.11.3"
  }
 },
 "nbformat": 4,
 "nbformat_minor": 5
}
